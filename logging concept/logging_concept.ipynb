{
 "cells": [
  {
   "cell_type": "markdown",
   "id": "06ae8930",
   "metadata": {},
   "source": [
    "## Levels of Debugging\n",
    "\n",
    "✅ Default sequence: DEBUG < INFO < WARNING < ERROR < CRITICAL"
   ]
  },
  {
   "cell_type": "code",
   "execution_count": 1,
   "id": "1ab4fd29",
   "metadata": {},
   "outputs": [
    {
     "name": "stderr",
     "output_type": "stream",
     "text": [
      "WARNING:logger_1:This is WARNING\n",
      "ERROR:logger_1:This is ERROR\n",
      "CRITICAL:logger_1:This is CRITICAL\n"
     ]
    }
   ],
   "source": [
    "import logging\n",
    "logging.basicConfig(level=logging.WARNING)\n",
    "logger_1 = logging.getLogger(\"logger_1\")\n",
    "\n",
    "logger_1.debug(\"This is DEBUG\") #not shown\n",
    "logger_1.info(\"This is INFO\") #not shown\n",
    "logger_1.warning(\"This is WARNING\")\n",
    "logger_1.error(\"This is ERROR\")\n",
    "logger_1.critical(\"This is CRITICAL\")\n"
   ]
  },
  {
   "cell_type": "markdown",
   "id": "9a9dcb15",
   "metadata": {},
   "source": [
    "#### Debugging levels can be over-ridden with `setLevel`"
   ]
  },
  {
   "cell_type": "code",
   "execution_count": 2,
   "id": "e9304d1b",
   "metadata": {},
   "outputs": [
    {
     "name": "stderr",
     "output_type": "stream",
     "text": [
      "ERROR:my_logger:This is ERROR\n",
      "CRITICAL:my_logger:This is CRITICAL\n"
     ]
    }
   ],
   "source": [
    "import logging\n",
    "\n",
    "logging.basicConfig(level=logging.WARNING)  # root logger set to WARNING\n",
    "\n",
    "logger = logging.getLogger(\"my_logger\")\n",
    "logger.info(\"This is INFO Before SetLevel()\")  # will not be executed\n",
    "\n",
    "logger.setLevel(logging.ERROR)  # override to ERROR\n",
    "\n",
    "logger.debug(\"This is DEBUG\")    # not shown\n",
    "logger.info(\"This is INFO After SetLevel()\")  # not shown\n",
    "logger.warning(\"This is WARNING\") # not shown\n",
    "logger.error(\"This is ERROR\")# shown\n",
    "logger.critical(\"This is CRITICAL\")# shown\n"
   ]
  },
  {
   "cell_type": "markdown",
   "id": "64b3d613",
   "metadata": {},
   "source": [
    "## Format the message"
   ]
  },
  {
   "cell_type": "code",
   "execution_count": 3,
   "id": "5db7d097",
   "metadata": {},
   "outputs": [
    {
     "name": "stderr",
     "output_type": "stream",
     "text": [
      "WARNING:logger_2:This is a warning\n"
     ]
    }
   ],
   "source": [
    "import logging\n",
    "logging.basicConfig(level=logging.WARNING, format='%(asctime)s - %(name)s - %(levelname)s - %(message)s')\n",
    "logger_2 = logging.getLogger(\"logger_2\")\n",
    "logger_2.warning(\"This is a warning\")"
   ]
  },
  {
   "cell_type": "markdown",
   "id": "14243873",
   "metadata": {},
   "source": [
    "This is happening because <b>earlier we have alrady declared logging basicConfig()</b><br/>\n",
    "Using `force = True`, the basicConfig() can be overwritten"
   ]
  },
  {
   "cell_type": "code",
   "execution_count": 4,
   "id": "5f270025",
   "metadata": {},
   "outputs": [
    {
     "name": "stderr",
     "output_type": "stream",
     "text": [
      "2025-06-13 13:25:00,937 - logger_3 - WARNING - This is a warning\n"
     ]
    }
   ],
   "source": [
    "import logging\n",
    "logging.basicConfig(level=logging.WARNING, format='%(asctime)s - %(name)s - %(levelname)s - %(message)s', force=True)\n",
    "logger_3 = logging.getLogger(\"logger_3\")\n",
    "logger_3.warning(\"This is a warning\")"
   ]
  },
  {
   "cell_type": "markdown",
   "id": "c5a3f5f3",
   "metadata": {},
   "source": [
    "## Output the log in a file using different filemodes"
   ]
  },
  {
   "cell_type": "code",
   "execution_count": 5,
   "id": "1f05071f",
   "metadata": {},
   "outputs": [],
   "source": [
    "import logging\n",
    "logging.basicConfig(level=logging.WARNING, format='%(asctime)s - %(name)s - %(levelname)s - %(message)s', filename=\"app.log\", force=True)\n",
    "logger_4 = logging.getLogger(\"logger_4\")\n",
    "logger_4.warning(\"This is a warning\")\n",
    "logger_4.critical(\"This is a critical\")"
   ]
  },
  {
   "cell_type": "markdown",
   "id": "0a3f3477",
   "metadata": {},
   "source": [
    "To `apend` the log file file"
   ]
  },
  {
   "cell_type": "code",
   "execution_count": 6,
   "id": "ce8cf428",
   "metadata": {},
   "outputs": [],
   "source": [
    "import logging\n",
    "logging.basicConfig(level=logging.WARNING, format='%(asctime)s - %(name)s - %(levelname)s - %(message)s', filename=\"app.log\", filemode=\"a\", force=True)\n",
    "logger_5 = logging.getLogger(\"logger_5\")\n",
    "logger_5.error(\"This is appended message\")"
   ]
  },
  {
   "cell_type": "markdown",
   "id": "db6bff22",
   "metadata": {},
   "source": [
    "to overwrite the file content, use `filemode='w'`"
   ]
  },
  {
   "cell_type": "markdown",
   "id": "35163513",
   "metadata": {},
   "source": [
    "✅ <b>Style</b><br/>\n",
    "\n",
    "Defines the style for formatting:\n",
    "\n",
    "- `'%'` (default): old-style formatting\n",
    "\n",
    "- `'{'` : str.format() style\n",
    "\n",
    "- `'$'` : string.Template style"
   ]
  },
  {
   "cell_type": "code",
   "execution_count": 10,
   "id": "285ae9f7",
   "metadata": {},
   "outputs": [
    {
     "name": "stderr",
     "output_type": "stream",
     "text": [
      "2025-06-13 15:30:20,520 - CRITICAL - This is critical\n"
     ]
    }
   ],
   "source": [
    "import logging\n",
    "logging.basicConfig(level=logging.WARNING, format='{asctime} - {levelname} - {message}', style='{', force=True)\n",
    "logger_6 = logging.getLogger(\"logger_6\")\n",
    "logger_6.critical(\"This is critical\")"
   ]
  },
  {
   "cell_type": "markdown",
   "id": "14dbe46c",
   "metadata": {},
   "source": [
    "<b>datefmt</b><br/>\n",
    "\n",
    "Format for `%(asctime)s` in the log."
   ]
  },
  {
   "cell_type": "code",
   "execution_count": 14,
   "id": "e5cd92f1",
   "metadata": {},
   "outputs": [
    {
     "name": "stderr",
     "output_type": "stream",
     "text": [
      "13-06-2025 15:32:36 - Time-formatted log\n"
     ]
    }
   ],
   "source": [
    "logging.basicConfig(\n",
    "    format='%(asctime)s - %(message)s',\n",
    "    datefmt='%d-%m-%Y %H:%M:%S',\n",
    "    level=logging.INFO,\n",
    "    force=True\n",
    ")\n",
    "logging.info(\"Time-formatted log\")"
   ]
  },
  {
   "cell_type": "markdown",
   "id": "0cc577ba",
   "metadata": {},
   "source": [
    "## Logging handlers"
   ]
  },
  {
   "cell_type": "code",
   "execution_count": 16,
   "id": "d051c4f2",
   "metadata": {},
   "outputs": [
    {
     "name": "stderr",
     "output_type": "stream",
     "text": [
      "2025-06-13 15:36:07,983 - logger_7 - CRITICAL - This is critical from dual logger\n"
     ]
    }
   ],
   "source": [
    "import logging\n",
    "console = logging.StreamHandler()\n",
    "file = logging.FileHandler(\"dual.log\")\n",
    "\n",
    "logging.basicConfig(level=logging.WARNING, handlers=[console, file], format = '%(asctime)s - %(name)s - %(levelname)s - %(message)s', force=True)\n",
    "logger_7 = logging.getLogger('logger_7')\n",
    "logger_7.critical(\"This is critical from dual logger\")"
   ]
  },
  {
   "cell_type": "markdown",
   "id": "a8872672",
   "metadata": {},
   "source": [
    "### Why use `logger` name like \"my_logger\" or \"logger_1\"??\n",
    "\n",
    "The name \"my_logger\" is not strictly necessary, but it serves a purpose — it helps you uniquely identify and configure loggers across a large application."
   ]
  },
  {
   "cell_type": "code",
   "execution_count": 1,
   "id": "029d8aa4",
   "metadata": {},
   "outputs": [
    {
     "name": "stderr",
     "output_type": "stream",
     "text": [
      "This is from AUTH WARNING\n",
      "This is from AUTH ERROR\n",
      "This is from AUTH CRITICAL\n",
      "This is from PAYMENT ERROR\n",
      "This is from PAYMENT CRITICAL\n"
     ]
    }
   ],
   "source": [
    "import logging\n",
    "\n",
    "# for authorization\n",
    "auth = logging.getLogger('auth')\n",
    "auth.setLevel(logging.DEBUG)\n",
    "\n",
    "# for payments\n",
    "payment = logging.getLogger('payment')\n",
    "payment.setLevel(logging.ERROR)\n",
    "\n",
    "auth.debug(\"This is from AUTH DEBUG\")\n",
    "auth.info(\"This is from AUTH INFO\")\n",
    "auth.warning(\"This is from AUTH WARNING\")\n",
    "auth.error(\"This is from AUTH ERROR\")\n",
    "auth.critical(\"This is from AUTH CRITICAL\")\n",
    "\n",
    "payment.debug(\"This is from PAYMENT DEBUG\")\n",
    "payment.info(\"This is from PAYMENT INFO\")\n",
    "payment.warning(\"This is from PAYMENT WARNING\")\n",
    "payment.error(\"This is from PAYMENT ERROR\")\n",
    "payment.critical(\"This is from PAYMENT CRITICAL\")"
   ]
  },
  {
   "cell_type": "markdown",
   "id": "32ffb0e4",
   "metadata": {},
   "source": [
    "## Logging config from dictionary, YAML, JSON"
   ]
  },
  {
   "cell_type": "code",
   "execution_count": 1,
   "id": "d7bf11b2",
   "metadata": {},
   "outputs": [
    {
     "name": "stderr",
     "output_type": "stream",
     "text": [
      "INFO - This goes to console\n"
     ]
    }
   ],
   "source": [
    "import logging.config\n",
    "\n",
    "LOGGING_CONFIG = {\n",
    "    'version': 1,\n",
    "    'formatters': {\n",
    "        'simple': {'format': '%(levelname)s - %(message)s'}\n",
    "    },\n",
    "    'handlers': {\n",
    "        'console': {\n",
    "            'class': 'logging.StreamHandler',\n",
    "            'formatter': 'simple',\n",
    "            'level': 'INFO'\n",
    "        }\n",
    "    },\n",
    "    'root': {\n",
    "        'handlers': ['console'],\n",
    "        'level': 'INFO'\n",
    "    }\n",
    "}\n",
    "\n",
    "logging.config.dictConfig(LOGGING_CONFIG)\n",
    "logging.info(\"This goes to console\")"
   ]
  },
  {
   "cell_type": "code",
   "execution_count": 1,
   "id": "fec080b3",
   "metadata": {},
   "outputs": [
    {
     "name": "stderr",
     "output_type": "stream",
     "text": [
      "2025-06-13 15:46:04 - myapp - INFO - Info message\n",
      "2025-06-13 15:46:04 - myapp - WARNING - Warning message\n"
     ]
    }
   ],
   "source": [
    "import logging.config\n",
    "\n",
    "LOGGING_CONFIG = {\n",
    "    'version': 1,\n",
    "    'disable_existing_loggers': False,\n",
    "    'formatters': {\n",
    "        'detailed': {\n",
    "            'format': '%(asctime)s - %(name)s - %(levelname)s - %(message)s',\n",
    "            'datefmt': '%Y-%m-%d %H:%M:%S'\n",
    "        }\n",
    "    },\n",
    "    'handlers': {\n",
    "        'console': {\n",
    "            'class': 'logging.StreamHandler',\n",
    "            'formatter': 'detailed',\n",
    "            'level': 'INFO'\n",
    "        },\n",
    "        'file': {\n",
    "            'class': 'logging.FileHandler',\n",
    "            'filename': 'full_app.log',\n",
    "            'formatter': 'detailed',\n",
    "            'level': 'DEBUG'\n",
    "        }\n",
    "    },\n",
    "    'loggers': {\n",
    "        'myapp': {\n",
    "            'handlers': ['console', 'file'],\n",
    "            'level': 'DEBUG',\n",
    "            'propagate': False\n",
    "        }\n",
    "    }\n",
    "}\n",
    "\n",
    "logging.config.dictConfig(LOGGING_CONFIG)\n",
    "logger = logging.getLogger('myapp')\n",
    "logger.debug(\"Debug message\")\n",
    "logger.info(\"Info message\")\n",
    "logger.warning(\"Warning message\")\n"
   ]
  },
  {
   "cell_type": "code",
   "execution_count": 3,
   "id": "29892968",
   "metadata": {},
   "outputs": [
    {
     "name": "stdout",
     "output_type": "stream",
     "text": [
      "2025-06-13 15:49:21 - myapp - INFO - This came from YAML config\n"
     ]
    }
   ],
   "source": [
    "import logging.config\n",
    "import yaml\n",
    "\n",
    "with open('logging_config.yaml', 'r') as f:\n",
    "    config = yaml.safe_load(f)\n",
    "\n",
    "logging.config.dictConfig(config)\n",
    "logger = logging.getLogger('myapp')\n",
    "logger.info(\"This came from YAML config\")"
   ]
  },
  {
   "cell_type": "code",
   "execution_count": 4,
   "id": "1d2328fb",
   "metadata": {},
   "outputs": [],
   "source": [
    "import logging.config\n",
    "import json\n",
    "\n",
    "with open('logging_config.json', 'r') as f:\n",
    "    config = json.load(f)\n",
    "\n",
    "logging.config.dictConfig(config)\n",
    "logger = logging.getLogger('myapp')\n",
    "logger.debug(\"This came from JSON config\")\n"
   ]
  },
  {
   "cell_type": "code",
   "execution_count": null,
   "id": "d000e502",
   "metadata": {},
   "outputs": [],
   "source": []
  }
 ],
 "metadata": {
  "kernelspec": {
   "display_name": "Python 3",
   "language": "python",
   "name": "python3"
  },
  "language_info": {
   "codemirror_mode": {
    "name": "ipython",
    "version": 3
   },
   "file_extension": ".py",
   "mimetype": "text/x-python",
   "name": "python",
   "nbconvert_exporter": "python",
   "pygments_lexer": "ipython3",
   "version": "3.13.2"
  }
 },
 "nbformat": 4,
 "nbformat_minor": 5
}
