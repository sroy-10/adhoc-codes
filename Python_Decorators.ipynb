{
  "nbformat": 4,
  "nbformat_minor": 0,
  "metadata": {
    "colab": {
      "provenance": [],
      "toc_visible": true,
      "authorship_tag": "ABX9TyOsXxbHHV/d2wU3G2uEHiQP",
      "include_colab_link": true
    },
    "kernelspec": {
      "name": "python3",
      "display_name": "Python 3"
    },
    "language_info": {
      "name": "python"
    }
  },
  "cells": [
    {
      "cell_type": "markdown",
      "metadata": {
        "id": "view-in-github",
        "colab_type": "text"
      },
      "source": [
        "<a href=\"https://colab.research.google.com/github/sroy-10/adhoc-codes/blob/main/Python_Decorators.ipynb\" target=\"_parent\"><img src=\"https://colab.research.google.com/assets/colab-badge.svg\" alt=\"Open In Colab\"/></a>"
      ]
    },
    {
      "cell_type": "markdown",
      "source": [
        "# `@property` Decorator"
      ],
      "metadata": {
        "id": "Ytz5-Jrf78A7"
      }
    },
    {
      "cell_type": "markdown",
      "source": [
        "The @property decorator in Python is used to define a method as a property, which allows you to access it like an attribute while still providing the benefits of a method, such as encapsulation and validation. This makes it possible to define getters, setters, and deleters in a clean and readable way.\n",
        "\n",
        "Here's a simple example to illustrate the use of @property:"
      ],
      "metadata": {
        "id": "gFdgSLiT75v0"
      }
    },
    {
      "cell_type": "code",
      "source": [
        "class Circle:\n",
        "    def __init__(self, radius):\n",
        "        self._radius = radius\n",
        "\n",
        "    @property\n",
        "    def radius(self):\n",
        "        return self._radius\n",
        "\n",
        "    @radius.setter\n",
        "    def radius(self, value):\n",
        "        if value < 0:\n",
        "            raise ValueError(\"Radius cannot be negative\")\n",
        "        self._radius = value\n",
        "\n",
        "    @property\n",
        "    def area(self):\n",
        "        import math\n",
        "        return math.pi * (self._radius ** 2)\n",
        "\n",
        "# Usage\n",
        "circle = Circle(5)\n",
        "print(circle.radius)  # 5\n",
        "print(circle.area)    # 78.53981633974483\n",
        "\n",
        "circle.radius = 3\n",
        "print(circle.radius)  # 3\n",
        "print(circle.area)    # 28.274333882308138\n",
        "\n",
        "# This will raise an exception\n",
        "# circle.radius = -1  # ValueError: Radius cannot be negative\n"
      ],
      "metadata": {
        "colab": {
          "base_uri": "https://localhost:8080/"
        },
        "id": "WzlIF_Pd74Y1",
        "outputId": "b2bc5770-08c5-4226-c018-5b7ff6c1eb24"
      },
      "execution_count": 1,
      "outputs": [
        {
          "output_type": "stream",
          "name": "stdout",
          "text": [
            "5\n",
            "78.53981633974483\n",
            "3\n",
            "28.274333882308138\n"
          ]
        }
      ]
    },
    {
      "cell_type": "markdown",
      "source": [
        "## What Happens if @property is Not Used"
      ],
      "metadata": {
        "id": "61hOPD7c8Qdd"
      }
    },
    {
      "cell_type": "markdown",
      "source": [
        "If @property is not used, you would need to use explicit getter and setter methods to achieve the same functionality. This can make your class less readable and harder to use:"
      ],
      "metadata": {
        "id": "k6qOHuza8S5Q"
      }
    },
    {
      "cell_type": "code",
      "source": [
        "class Circle:\n",
        "    def __init__(self, radius):\n",
        "        self._radius = radius\n",
        "\n",
        "    def get_radius(self):\n",
        "        return self._radius\n",
        "\n",
        "    def set_radius(self, value):\n",
        "        if value < 0:\n",
        "            raise ValueError(\"Radius cannot be negative\")\n",
        "        self._radius = value\n",
        "\n",
        "    def get_area(self):\n",
        "        import math\n",
        "        return math.pi * (self._radius ** 2)\n",
        "\n",
        "# Usage\n",
        "circle = Circle(5)\n",
        "print(circle.get_radius())  # 5\n",
        "print(circle.get_area())    # 78.53981633974483\n",
        "\n",
        "circle.set_radius(3)\n",
        "print(circle.get_radius())  # 3\n",
        "print(circle.get_area())    # 28.274333882308138\n",
        "\n",
        "# This will raise an exception\n",
        "# circle.set_radius(-1)  # ValueError: Radius cannot be negative\n"
      ],
      "metadata": {
        "colab": {
          "base_uri": "https://localhost:8080/"
        },
        "id": "lioGhF2j75pV",
        "outputId": "3704a3df-98a0-4289-f6e0-7bdaefc1bc83"
      },
      "execution_count": 2,
      "outputs": [
        {
          "output_type": "stream",
          "name": "stdout",
          "text": [
            "5\n",
            "78.53981633974483\n",
            "3\n",
            "28.274333882308138\n"
          ]
        }
      ]
    },
    {
      "cell_type": "markdown",
      "source": [
        "## Key Differences\n",
        "\n",
        "\n",
        "- **Readability:** Using @property makes the code more readable and concise. You can access properties directly rather than through getter and setter methods.\n",
        "\n",
        "- **Encapsulation:** @property allows you to encapsulate the internal state of an object, providing a more controlled way to access and modify the attributes.\n",
        "\n",
        "- **Consistency:** Using properties ensures that attributes are accessed in a consistent manner, which can help prevent errors and makes the code easier to maintain.\n",
        "\n",
        "In summary, the @property decorator provides a more Pythonic way to manage attributes in a class, combining the simplicity of attribute access with the power of method calls."
      ],
      "metadata": {
        "id": "XIUuonvu8WZE"
      }
    },
    {
      "cell_type": "markdown",
      "source": [
        "## Example 1: Basic Getter and Setter\n",
        "\n",
        "In this example, we use @property to define a getter and a setter for a temperature attribute in Celsius and Fahrenheit."
      ],
      "metadata": {
        "id": "BVtnWIzB8mCY"
      }
    },
    {
      "cell_type": "code",
      "source": [
        "class Temperature:\n",
        "    def __init__(self, celsius):\n",
        "        self._celsius = celsius\n",
        "\n",
        "    @property\n",
        "    def celsius(self):\n",
        "        return self._celsius\n",
        "\n",
        "    @celsius.setter\n",
        "    def celsius(self, value):\n",
        "        if value < -273.15:\n",
        "            raise ValueError(\"Temperature cannot be below absolute zero\")\n",
        "        self._celsius = value\n",
        "\n",
        "    @property\n",
        "    def fahrenheit(self):\n",
        "        return self._celsius * 9 / 5 + 32\n",
        "\n",
        "    @fahrenheit.setter\n",
        "    def fahrenheit(self, value):\n",
        "        self._celsius = (value - 32) * 5 / 9\n",
        "\n",
        "# Usage\n",
        "temp = Temperature(0)\n",
        "print(temp.celsius)     # 0\n",
        "print(temp.fahrenheit)  # 32.0\n",
        "\n",
        "temp.fahrenheit = 100\n",
        "print(temp.celsius)     # 37.77777777777778\n"
      ],
      "metadata": {
        "colab": {
          "base_uri": "https://localhost:8080/"
        },
        "id": "0AtEVVJ776WC",
        "outputId": "317bdfe5-4394-48eb-a912-c060d59d66f8"
      },
      "execution_count": 3,
      "outputs": [
        {
          "output_type": "stream",
          "name": "stdout",
          "text": [
            "0\n",
            "32.0\n",
            "37.77777777777778\n"
          ]
        }
      ]
    },
    {
      "cell_type": "markdown",
      "source": [
        "## Example 2: Read-Only Property\n",
        "\n",
        "Here, we define a read-only property for the area of a rectangle. The area is calculated based on the width and height, and it cannot be set directly."
      ],
      "metadata": {
        "id": "ohrmpebV8qP6"
      }
    },
    {
      "cell_type": "code",
      "source": [
        "class Rectangle:\n",
        "    def __init__(self, width, height):\n",
        "        self.width = width\n",
        "        self.height = height\n",
        "\n",
        "    @property\n",
        "    def area(self):\n",
        "        return self.width * self.height\n",
        "\n",
        "# Usage\n",
        "rect = Rectangle(4, 5)\n",
        "print(rect.area)  # 20\n",
        "\n",
        "# rect.area = 10  # AttributeError: can't set attribute\n"
      ],
      "metadata": {
        "colab": {
          "base_uri": "https://localhost:8080/"
        },
        "id": "RX78lFB-8oMk",
        "outputId": "4612e9ee-0ddc-45b2-a82e-aae37002ab33"
      },
      "execution_count": 4,
      "outputs": [
        {
          "output_type": "stream",
          "name": "stdout",
          "text": [
            "20\n"
          ]
        }
      ]
    },
    {
      "cell_type": "markdown",
      "source": [
        "## Example 3: Computed Property\n",
        "\n",
        "This example shows how to use a property to compute a value dynamically. Here, we calculate the balance of a bank account based on deposits and withdrawals."
      ],
      "metadata": {
        "id": "ecZCjB7T8uJY"
      }
    },
    {
      "cell_type": "code",
      "source": [
        "class BankAccount:\n",
        "    def __init__(self, initial_deposit):\n",
        "        self._balance = initial_deposit\n",
        "        self._transactions = []\n",
        "\n",
        "    @property\n",
        "    def balance(self):\n",
        "        return self._balance + sum(self._transactions)\n",
        "\n",
        "    def deposit(self, amount):\n",
        "        self._transactions.append(amount)\n",
        "\n",
        "    def withdraw(self, amount):\n",
        "        self._transactions.append(-amount)\n",
        "\n",
        "# Usage\n",
        "account = BankAccount(100)\n",
        "account.deposit(50)\n",
        "account.withdraw(20)\n",
        "print(account.balance)  # 130\n"
      ],
      "metadata": {
        "colab": {
          "base_uri": "https://localhost:8080/"
        },
        "id": "Gvyelv3Q8sZ4",
        "outputId": "fd7703ab-2b71-468e-f62e-e422902e1829"
      },
      "execution_count": 5,
      "outputs": [
        {
          "output_type": "stream",
          "name": "stdout",
          "text": [
            "130\n"
          ]
        }
      ]
    },
    {
      "cell_type": "markdown",
      "source": [
        "## Example 4: Validation\n",
        "\n",
        "In this example, we use the @property decorator to add validation logic to the attributes of a Person class."
      ],
      "metadata": {
        "id": "6VMmbSmu803a"
      }
    },
    {
      "cell_type": "code",
      "source": [
        "class Person:\n",
        "    def __init__(self, name, age):\n",
        "        self.name = name\n",
        "        self._age = age\n",
        "\n",
        "    @property\n",
        "    def age(self):\n",
        "        return self._age\n",
        "\n",
        "    @age.setter\n",
        "    def age(self, value):\n",
        "        if value < 0:\n",
        "            raise ValueError(\"Age cannot be negative\")\n",
        "        self._age = value\n",
        "\n",
        "# Usage\n",
        "person = Person(\"Alice\", 30)\n",
        "print(person.age)  # 30\n",
        "\n",
        "# person.age = -5  # ValueError: Age cannot be negative\n"
      ],
      "metadata": {
        "colab": {
          "base_uri": "https://localhost:8080/"
        },
        "id": "LJ81lVJA8yx_",
        "outputId": "f2200214-b64f-41d3-f8e2-3afd0fb2a9d4"
      },
      "execution_count": 6,
      "outputs": [
        {
          "output_type": "stream",
          "name": "stdout",
          "text": [
            "30\n"
          ]
        }
      ]
    },
    {
      "cell_type": "markdown",
      "source": [
        "## Example 5: Lazy Evaluation\n",
        "In this example, we use the @property decorator to implement lazy evaluation. The expensive_computation property is computed only when accessed for the first time and then cached."
      ],
      "metadata": {
        "id": "VgFMibJo848o"
      }
    },
    {
      "cell_type": "code",
      "source": [
        "class Data:\n",
        "    def __init__(self):\n",
        "        self._expensive_result = None\n",
        "\n",
        "    @property\n",
        "    def expensive_computation(self):\n",
        "        if self._expensive_result is None:\n",
        "            print(\"Performing expensive computation...\")\n",
        "            self._expensive_result = sum(range(1000000))  # Simulating an expensive operation\n",
        "        return self._expensive_result\n",
        "\n",
        "# Usage\n",
        "data = Data()\n",
        "print(data.expensive_computation)  # Performing expensive computation... 499999500000\n",
        "print(data.expensive_computation)  # 499999500000 (cached result, no computation)\n"
      ],
      "metadata": {
        "colab": {
          "base_uri": "https://localhost:8080/"
        },
        "id": "F6-8ZJir824x",
        "outputId": "a6b98d60-bd52-40db-c617-8b67a371fbb4"
      },
      "execution_count": 7,
      "outputs": [
        {
          "output_type": "stream",
          "name": "stdout",
          "text": [
            "Performing expensive computation...\n",
            "499999500000\n",
            "499999500000\n"
          ]
        }
      ]
    },
    {
      "cell_type": "markdown",
      "source": [
        "## Example 6: Property with Deleter\n",
        "\n",
        "In this example, we demonstrate how to use a deleter with a property. This allows you to define behavior for deleting an attribute."
      ],
      "metadata": {
        "id": "aRNfr3Vs8_0p"
      }
    },
    {
      "cell_type": "code",
      "source": [
        "class Employee:\n",
        "    def __init__(self, name, salary):\n",
        "        self.name = name\n",
        "        self._salary = salary\n",
        "\n",
        "    @property\n",
        "    def salary(self):\n",
        "        return self._salary\n",
        "\n",
        "    @salary.setter\n",
        "    def salary(self, value):\n",
        "        if value < 0:\n",
        "            raise ValueError(\"Salary cannot be negative\")\n",
        "        self._salary = value\n",
        "\n",
        "    @salary.deleter\n",
        "    def salary(self):\n",
        "        print(f\"Deleting salary of {self.name}\")\n",
        "        del self._salary\n",
        "\n",
        "# Usage\n",
        "emp = Employee(\"John\", 50000)\n",
        "print(emp.salary)  # 50000\n",
        "\n",
        "del emp.salary  # Deleting salary of John\n",
        "\n",
        "# print(emp.salary)  # AttributeError: 'Employee' object has no attribute '_salary'\n"
      ],
      "metadata": {
        "colab": {
          "base_uri": "https://localhost:8080/"
        },
        "id": "T5O6g3Ca88hA",
        "outputId": "be12db94-bce6-4f68-9eeb-bda12a9115a1"
      },
      "execution_count": 8,
      "outputs": [
        {
          "output_type": "stream",
          "name": "stdout",
          "text": [
            "50000\n",
            "Deleting salary of John\n"
          ]
        }
      ]
    },
    {
      "cell_type": "markdown",
      "source": [
        "## Example 7: Property for Dependent Attributes\n",
        "\n",
        "This example shows how to use properties to manage attributes that depend on each other. Here, we define a class for a rectangle where the perimeter and area are computed properties."
      ],
      "metadata": {
        "id": "pEhHflzc9DL4"
      }
    },
    {
      "cell_type": "code",
      "source": [
        "class Rectangle:\n",
        "    def __init__(self, width, height):\n",
        "        self.width = width\n",
        "        self.height = height\n",
        "\n",
        "    @property\n",
        "    def area(self):\n",
        "        return self.width * self.height\n",
        "\n",
        "    @property\n",
        "    def perimeter(self):\n",
        "        return 2 * (self.width + self.height)\n",
        "\n",
        "# Usage\n",
        "rect = Rectangle(4, 5)\n",
        "print(rect.area)      # 20\n",
        "print(rect.perimeter) # 18\n"
      ],
      "metadata": {
        "colab": {
          "base_uri": "https://localhost:8080/"
        },
        "id": "aYj3mBME9BiA",
        "outputId": "8d9d9f1a-68dc-4c60-8130-d7465307788c"
      },
      "execution_count": 9,
      "outputs": [
        {
          "output_type": "stream",
          "name": "stdout",
          "text": [
            "20\n",
            "18\n"
          ]
        }
      ]
    },
    {
      "cell_type": "markdown",
      "source": [
        "## Example 8: Property with Complex Validation\n",
        "\n",
        "In this example, we validate a complex condition on the attribute. Here, we validate that a credit card number is valid using the Luhn algorithm."
      ],
      "metadata": {
        "id": "l7ICi5da9HB-"
      }
    },
    {
      "cell_type": "code",
      "source": [
        "class CreditCard:\n",
        "    def __init__(self, number):\n",
        "        self._number = None\n",
        "        self.number = number\n",
        "\n",
        "    @property\n",
        "    def number(self):\n",
        "        return self._number\n",
        "\n",
        "    @number.setter\n",
        "    def number(self, value):\n",
        "        if not self._is_valid_number(value):\n",
        "            raise ValueError(\"Invalid credit card number\")\n",
        "        self._number = value\n",
        "\n",
        "    def _is_valid_number(self, number):\n",
        "        # Implementing Luhn algorithm for simplicity\n",
        "        digits = [int(d) for d in str(number)]\n",
        "        checksum = 0\n",
        "        double = False\n",
        "        for d in reversed(digits):\n",
        "            if double:\n",
        "                d *= 2\n",
        "                if d > 9:\n",
        "                    d -= 9\n",
        "            checksum += d\n",
        "            double = not double\n",
        "        return checksum % 10 == 0\n",
        "\n",
        "# Usage\n",
        "try:\n",
        "    card = CreditCard(1234567812345670)  # Valid number\n",
        "    print(card.number)\n",
        "except ValueError as e:\n",
        "    print(e)\n",
        "\n",
        "try:\n",
        "    card.number = 1234567812345678  # Invalid number\n",
        "except ValueError as e:\n",
        "    print(e)  # Invalid credit card number\n"
      ],
      "metadata": {
        "colab": {
          "base_uri": "https://localhost:8080/"
        },
        "id": "sBUbeVsr9FBR",
        "outputId": "7dba2624-75e6-4a6a-e94f-bd253d6ac343"
      },
      "execution_count": 10,
      "outputs": [
        {
          "output_type": "stream",
          "name": "stdout",
          "text": [
            "1234567812345670\n",
            "Invalid credit card number\n"
          ]
        }
      ]
    },
    {
      "cell_type": "markdown",
      "source": [
        "## Example 9: Cached Property\n",
        "\n",
        "In this example, we use a property to cache a value that is expensive to compute. We use a custom decorator for caching the result."
      ],
      "metadata": {
        "id": "X9ELHtvH9Mu-"
      }
    },
    {
      "cell_type": "code",
      "source": [
        "class CachedProperty:\n",
        "    def __init__(self, func):\n",
        "        self.func = func\n",
        "        self._cache = None\n",
        "\n",
        "    def __get__(self, instance, owner):\n",
        "        if self._cache is None:\n",
        "            self._cache = self.func(instance)\n",
        "        return self._cache\n",
        "\n",
        "class Data:\n",
        "    @CachedProperty\n",
        "    def expensive_computation(self):\n",
        "        print(\"Performing expensive computation...\")\n",
        "        return sum(range(1000000))\n",
        "\n",
        "# Usage\n",
        "data = Data()\n",
        "print(data.expensive_computation)  # Performing expensive computation... 499999500000\n",
        "print(data.expensive_computation)  # 499999500000 (cached result, no computation)\n"
      ],
      "metadata": {
        "colab": {
          "base_uri": "https://localhost:8080/"
        },
        "id": "mxOHeVEv9KTe",
        "outputId": "a522c5e0-47b6-490f-8bee-79d9d7aa8a3a"
      },
      "execution_count": 11,
      "outputs": [
        {
          "output_type": "stream",
          "name": "stdout",
          "text": [
            "Performing expensive computation...\n",
            "499999500000\n",
            "499999500000\n"
          ]
        }
      ]
    },
    {
      "cell_type": "markdown",
      "source": [
        "## Example 10: Property for Dynamic Attributes\n",
        "\n",
        "In this example, we use a property to manage dynamic attributes, such as dynamically changing configurations."
      ],
      "metadata": {
        "id": "7XS9F90B9Q5V"
      }
    },
    {
      "cell_type": "code",
      "source": [
        "class Configuration:\n",
        "    def __init__(self):\n",
        "        self._settings = {}\n",
        "\n",
        "    @property\n",
        "    def settings(self):\n",
        "        return self._settings\n",
        "\n",
        "    @settings.setter\n",
        "    def settings(self, new_settings):\n",
        "        if not isinstance(new_settings, dict):\n",
        "            raise ValueError(\"Settings must be a dictionary\")\n",
        "        self._settings.update(new_settings)\n",
        "\n",
        "# Usage\n",
        "config = Configuration()\n",
        "config.settings = {'debug': True, 'db': 'mysql'}\n",
        "print(config.settings)  # {'debug': True, 'db': 'mysql'}\n",
        "\n",
        "config.settings = {'cache': 'redis'}\n",
        "print(config.settings)  # {'debug': True, 'db': 'mysql', 'cache': 'redis'}\n"
      ],
      "metadata": {
        "colab": {
          "base_uri": "https://localhost:8080/"
        },
        "id": "gyvJBuQS9POv",
        "outputId": "a6036ad8-179d-4d20-9fc7-df1812c9b757"
      },
      "execution_count": 12,
      "outputs": [
        {
          "output_type": "stream",
          "name": "stdout",
          "text": [
            "{'debug': True, 'db': 'mysql'}\n",
            "{'debug': True, 'db': 'mysql', 'cache': 'redis'}\n"
          ]
        }
      ]
    },
    {
      "cell_type": "markdown",
      "source": [
        "# Difference between `@staticmethod` and `@classmethod`"
      ],
      "metadata": {
        "id": "X3rkfKYw9U1P"
      }
    },
    {
      "cell_type": "markdown",
      "source": [
        "There is a significant difference between @staticmethod and @classmethod in Python. Both are used to define methods that do not operate on an instance of the class (self) but they serve different purposes.\n",
        "\n",
        "`**@staticmethod**`\n",
        "- A @staticmethod does not take any special first parameter (like self or cls). It behaves just like a regular function, but it belongs to the class's namespace.\n",
        "\n",
        "- It does not have access to the class (like cls) or the instance (like self). It only knows about the parameters it is explicitly given.\n",
        "\n",
        "`**@classmethod**`\n",
        "- A @classmethod takes cls as its first parameter. This parameter represents the class itself, not an instance of the class.\n",
        "\n",
        "- It can modify the class state that applies across all instances of the class."
      ],
      "metadata": {
        "id": "3n_SanmW9adm"
      }
    },
    {
      "cell_type": "markdown",
      "source": [
        "## Example of @staticmethod"
      ],
      "metadata": {
        "id": "wj76cmTz92yf"
      }
    },
    {
      "cell_type": "code",
      "source": [
        "class MyClass:\n",
        "    @staticmethod\n",
        "    def static_method(x, y):\n",
        "        return x + y\n",
        "\n",
        "# Usage\n",
        "print(MyClass.static_method(3, 5))  # 8\n",
        "\n",
        "# You can also call it from an instance, but it's not common practice\n",
        "obj = MyClass()\n",
        "print(obj.static_method(3, 5))  # 8\n"
      ],
      "metadata": {
        "colab": {
          "base_uri": "https://localhost:8080/"
        },
        "id": "IWfZhRY09Se_",
        "outputId": "cc674ffb-04e5-47b9-8630-db96bc8980e6"
      },
      "execution_count": 13,
      "outputs": [
        {
          "output_type": "stream",
          "name": "stdout",
          "text": [
            "8\n",
            "8\n"
          ]
        }
      ]
    },
    {
      "cell_type": "markdown",
      "source": [
        "##  Example of @classmethod"
      ],
      "metadata": {
        "id": "5IErxhVR98bE"
      }
    },
    {
      "cell_type": "code",
      "source": [
        "class MyClass:\n",
        "    count = 0\n",
        "\n",
        "    def __init__(self):\n",
        "        MyClass.count += 1\n",
        "\n",
        "    @classmethod\n",
        "    def get_count(cls):\n",
        "        return cls.count\n",
        "\n",
        "# Usage\n",
        "print(MyClass.get_count())  # 0\n",
        "\n",
        "obj1 = MyClass()\n",
        "print(MyClass.get_count())  # 1\n",
        "\n",
        "obj2 = MyClass()\n",
        "print(MyClass.get_count())  # 2\n"
      ],
      "metadata": {
        "colab": {
          "base_uri": "https://localhost:8080/"
        },
        "id": "kRNhFWre9oKy",
        "outputId": "1b95c734-9179-43a0-9573-020f6d64c1d4"
      },
      "execution_count": 14,
      "outputs": [
        {
          "output_type": "stream",
          "name": "stdout",
          "text": [
            "0\n",
            "1\n",
            "2\n"
          ]
        }
      ]
    },
    {
      "cell_type": "markdown",
      "source": [
        "## Differences Illustrated with Code\n",
        "\n",
        "Here's a combined example to illustrate the key differences:"
      ],
      "metadata": {
        "id": "azRYns1i-PCd"
      }
    },
    {
      "cell_type": "code",
      "source": [
        "class Example:\n",
        "    count = 0\n",
        "\n",
        "    def __init__(self):\n",
        "        Example.count += 1\n",
        "\n",
        "    @staticmethod\n",
        "    def static_method(x, y):\n",
        "        return x * y\n",
        "\n",
        "    @classmethod\n",
        "    def class_method(cls):\n",
        "        return cls.count\n",
        "\n",
        "# Usage of @staticmethod\n",
        "print(Example.static_method(3, 4))  # 12\n",
        "\n",
        "# Usage of @classmethod\n",
        "print(Example.class_method())  # 0\n",
        "\n",
        "# Creating instances to change the class state\n",
        "obj1 = Example()\n",
        "print(Example.class_method())  # 1\n",
        "\n",
        "obj2 = Example()\n",
        "print(Example.class_method())  # 2\n",
        "\n",
        "# Calling the static method from an instance\n",
        "print(obj1.static_method(3, 4))  # 12\n",
        "\n",
        "# Calling the class method from an instance\n",
        "print(obj1.class_method())  # 2\n"
      ],
      "metadata": {
        "colab": {
          "base_uri": "https://localhost:8080/"
        },
        "id": "KNxcAUtS-NjV",
        "outputId": "cce322a9-f170-4d73-ce54-f049d2f14f19"
      },
      "execution_count": 15,
      "outputs": [
        {
          "output_type": "stream",
          "name": "stdout",
          "text": [
            "12\n",
            "0\n",
            "1\n",
            "2\n",
            "12\n",
            "2\n"
          ]
        }
      ]
    },
    {
      "cell_type": "markdown",
      "source": [
        "**In summary:**\n",
        "\n",
        "- Use @staticmethod when you need a utility function that doesn't access any properties of the class or instance.\n",
        "\n",
        "- Use @classmethod when you need to access or modify the class state, such as modifying a class variable or calling other class methods."
      ],
      "metadata": {
        "id": "1_jHri-9-CZl"
      }
    },
    {
      "cell_type": "markdown",
      "source": [
        "# @total_ordering (from functools module)"
      ],
      "metadata": {
        "id": "VuCE10aJ-YFh"
      }
    },
    {
      "cell_type": "markdown",
      "source": [
        "The @total_ordering decorator in Python, available from the functools module, is a convenient way to define all the rich comparison methods (<, <=, >, >=, ==, !=) for a class by only defining a few of them. Specifically, you only need to define __eq__ and one other comparison method (like __lt__, __le__, __gt__, or __ge__), and @total_ordering will fill in the rest.\n",
        "\n",
        "This is particularly useful when you have a class where instances need to be comparable but writing all the comparison methods manually would be repetitive and error-prone."
      ],
      "metadata": {
        "id": "gY4ICs_V-cEc"
      }
    },
    {
      "cell_type": "code",
      "source": [
        "from functools import total_ordering\n",
        "\n",
        "@total_ordering\n",
        "class Person:\n",
        "    def __init__(self, name, age):\n",
        "        self.name = name\n",
        "        self.age = age\n",
        "\n",
        "    def __eq__(self, other):\n",
        "        if not isinstance(other, Person):\n",
        "            return NotImplemented\n",
        "        return self.age == other.age\n",
        "\n",
        "    def __lt__(self, other):\n",
        "        if not isinstance(other, Person):\n",
        "            return NotImplemented\n",
        "        return self.age < other.age\n",
        "\n",
        "    def __repr__(self):\n",
        "        return f'{self.name} ({self.age})'\n",
        "\n",
        "# Usage\n",
        "alice = Person('Alice', 30)\n",
        "bob = Person('Bob', 25)\n",
        "charlie = Person('Charlie', 30)\n",
        "\n",
        "print(alice == bob)    # False\n",
        "print(alice == charlie) # True\n",
        "print(alice < bob)     # False\n",
        "print(bob < alice)     # True\n",
        "print(bob <= alice)    # True\n",
        "print(alice > bob)     # True\n",
        "print(alice >= charlie) # True\n",
        "print(alice != bob)    # True\n"
      ],
      "metadata": {
        "colab": {
          "base_uri": "https://localhost:8080/"
        },
        "id": "JXv3Z76R9-wx",
        "outputId": "8c102393-41e8-4b3b-930b-a8eba393a83d"
      },
      "execution_count": 16,
      "outputs": [
        {
          "output_type": "stream",
          "name": "stdout",
          "text": [
            "False\n",
            "True\n",
            "False\n",
            "True\n",
            "True\n",
            "True\n",
            "True\n",
            "True\n"
          ]
        }
      ]
    },
    {
      "cell_type": "markdown",
      "source": [
        "**How It Works**\n",
        "\n",
        "- Define __eq__: You must define the __eq__ method to compare for equality.\n",
        "\n",
        "- Define one other comparison method: You must define at least one of the ordering methods (__lt__, __le__, __gt__, __ge__).\n",
        "\n",
        "- Decorate with `@total_ordering`: Apply the `@total_ordering` decorator to the class.\n",
        "\n",
        "The @total_ordering decorator will then automatically generate the remaining comparison methods. For example, if you define __eq__ and __lt__, `@total_ordering` will provide implementations for __le__, __gt__, and __ge__.\n",
        "\n",
        "<hr/>\n",
        "\n",
        "**Why Use @total_ordering?**\n",
        "\n",
        "- **Reduce Boilerplate:** It reduces the amount of code you need to write, making your class definitions cleaner and less error-prone.\n",
        "\n",
        "- **Consistency:** By automatically generating the missing comparison methods, it helps ensure that the comparison operations are consistent with each other.\n",
        "\n",
        "<hr/>\n",
        "\n",
        "**Limitations**\n",
        "\n",
        "- **Performance:** Automatically generated methods might not be as optimized as custom implementations, though this is usually negligible.\n",
        "\n",
        "- **Specificity:** The automatically generated methods are based on logical combinations of the provided methods, which should work correctly for most cases but might not cover highly specialized or nuanced comparison logic.\n",
        "\n",
        "In summary, `@total_ordering` is a helpful tool for reducing boilerplate in classes that require rich comparison methods, ensuring consistency and simplifying class definitions.\n"
      ],
      "metadata": {
        "id": "ugG7Jet6-gth"
      }
    },
    {
      "cell_type": "markdown",
      "source": [
        "# @dataclass (from dataclasses module)"
      ],
      "metadata": {
        "id": "cmX3PkF8_ZyQ"
      }
    },
    {
      "cell_type": "markdown",
      "source": [
        "The @dataclass decorator in Python, available from the dataclasses module (introduced in Python 3.7), provides a way to automatically generate special methods for classes, such as __init__, __repr__, __eq__, and others, based on the class attributes. This is particularly useful for classes that are primarily used to store data, as it reduces boilerplate code and makes the class definitions more concise and readable.\n",
        "\n",
        "**Key Features of @dataclass**\n",
        "\n",
        "- Automatic __init__ Method: Automatically generates an __init__ method that initializes all the fields.\n",
        "- Automatic __repr__ Method: Generates a __repr__ method that provides a string representation of the class instance.\n",
        "- Automatic __eq__ Method: Generates an __eq__ method that compares instances by their fields.\n",
        "- Type Annotations: Encourages the use of type annotations for class fields.\n",
        "- Default Values and Default Factories: Allows setting default values and default factories for fields."
      ],
      "metadata": {
        "id": "9U1BnJ7U_tJD"
      }
    },
    {
      "cell_type": "code",
      "source": [
        "from dataclasses import dataclass, field\n",
        "from typing import List\n",
        "\n",
        "@dataclass\n",
        "class Person:\n",
        "    name: str\n",
        "    age: int\n",
        "    friends: List[str] = field(default_factory=list)\n",
        "\n",
        "# Usage\n",
        "alice = Person(name=\"Alice\", age=30)\n",
        "bob = Person(name=\"Bob\", age=25, friends=[\"Alice\"])\n",
        "\n",
        "print(alice)  # Person(name='Alice', age=30, friends=[])\n",
        "print(bob)    # Person(name='Bob', age=25, friends=['Alice'])\n",
        "\n",
        "print(alice == bob)  # False\n",
        "\n",
        "# Adding a friend to Alice\n",
        "alice.friends.append(\"Bob\")\n",
        "print(alice)  # Person(name='Alice', age=30, friends=['Bob'])\n"
      ],
      "metadata": {
        "colab": {
          "base_uri": "https://localhost:8080/"
        },
        "id": "m3lekgzO-dt4",
        "outputId": "cad91934-5d9b-437d-b5b8-1512c94c253d"
      },
      "execution_count": 17,
      "outputs": [
        {
          "output_type": "stream",
          "name": "stdout",
          "text": [
            "Person(name='Alice', age=30, friends=[])\n",
            "Person(name='Bob', age=25, friends=['Alice'])\n",
            "False\n",
            "Person(name='Alice', age=30, friends=['Bob'])\n"
          ]
        }
      ]
    },
    {
      "cell_type": "markdown",
      "source": [
        "## Key Features Explained"
      ],
      "metadata": {
        "id": "VfB7F2_X_43n"
      }
    },
    {
      "cell_type": "markdown",
      "source": [
        "Automatic __init__ Method: The @dataclass decorator generates the following __init__ method for the Person class:"
      ],
      "metadata": {
        "id": "t54xHeGe_9Kg"
      }
    },
    {
      "cell_type": "code",
      "source": [
        "def __init__(self, name: str, age: int, friends: List[str] = None):\n",
        "    self.name = name\n",
        "    self.age = age\n",
        "    self.friends = friends if friends is not None else []\n"
      ],
      "metadata": {
        "id": "oNvos65b_4P0"
      },
      "execution_count": 18,
      "outputs": []
    },
    {
      "cell_type": "markdown",
      "source": [
        "Automatic __repr__ Method: The @dataclass decorator generates a __repr__ method that provides a readable string representation of the instance:"
      ],
      "metadata": {
        "id": "HDITYUVQ_-2J"
      }
    },
    {
      "cell_type": "code",
      "source": [
        "def __repr__(self):\n",
        "    return f\"Person(name={self.name!r}, age={self.age!r}, friends={self.friends!r})\"\n"
      ],
      "metadata": {
        "id": "Bmga4_K5_67B"
      },
      "execution_count": 20,
      "outputs": []
    },
    {
      "cell_type": "markdown",
      "source": [
        " Automatic __eq__ Method: The @dataclass decorator generates an __eq__ method that compares instances based on their fields:"
      ],
      "metadata": {
        "id": "r6z6GotQABAo"
      }
    },
    {
      "cell_type": "code",
      "source": [
        "def __eq__(self, other):\n",
        "    if not isinstance(other, Person):\n",
        "        return False\n",
        "    return self.name == other.name and self.age == other.age and self.friends == other.friends\n"
      ],
      "metadata": {
        "id": "Nk_UgebT_7zT"
      },
      "execution_count": 21,
      "outputs": []
    },
    {
      "cell_type": "markdown",
      "source": [
        "Default Values and Default Factories: You can set default values for fields directly or use field(default_factory=...) for mutable types like lists:"
      ],
      "metadata": {
        "id": "841A7xi1ADlH"
      }
    },
    {
      "cell_type": "code",
      "source": [
        "friends: List[str] = field(default_factory=list)\n"
      ],
      "metadata": {
        "id": "H67txCMNACNw"
      },
      "execution_count": 22,
      "outputs": []
    },
    {
      "cell_type": "markdown",
      "source": [
        "## Additional Features and Options"
      ],
      "metadata": {
        "id": "weFd_IG-AGYA"
      }
    },
    {
      "cell_type": "markdown",
      "source": [
        "Frozen Dataclasses: Make instances immutable by setting frozen=True:"
      ],
      "metadata": {
        "id": "2i7Nt_xyALRD"
      }
    },
    {
      "cell_type": "code",
      "source": [
        "@dataclass(frozen=True)\n",
        "class ImmutablePerson:\n",
        "    name: str\n",
        "    age: int\n"
      ],
      "metadata": {
        "id": "YoXN5TvaAEg4"
      },
      "execution_count": 23,
      "outputs": []
    },
    {
      "cell_type": "markdown",
      "source": [
        "Orderable Dataclasses: Automatically generate comparison methods (<, <=, >, >=) by setting order=True:"
      ],
      "metadata": {
        "id": "lHQqzc3nAN6T"
      }
    },
    {
      "cell_type": "code",
      "source": [
        "@dataclass(order=True)\n",
        "class OrderedPerson:\n",
        "    name: str\n",
        "    age: int\n"
      ],
      "metadata": {
        "id": "h-wPHSuvAMll"
      },
      "execution_count": 24,
      "outputs": []
    },
    {
      "cell_type": "markdown",
      "source": [
        "Customizing Field Metadata: You can add metadata to fields, useful for serialization/deserialization or validation frameworks:"
      ],
      "metadata": {
        "id": "WGs1GbZcAQBK"
      }
    },
    {
      "cell_type": "code",
      "source": [
        "@dataclass\n",
        "class Person:\n",
        "    name: str\n",
        "    age: int\n",
        "    friends: List[str] = field(default_factory=list, metadata={\"help\": \"List of friends\"})\n"
      ],
      "metadata": {
        "id": "O1BcnvX5AOzb"
      },
      "execution_count": 25,
      "outputs": []
    },
    {
      "cell_type": "code",
      "source": [],
      "metadata": {
        "id": "BoObvlI0AREk"
      },
      "execution_count": null,
      "outputs": []
    }
  ]
}